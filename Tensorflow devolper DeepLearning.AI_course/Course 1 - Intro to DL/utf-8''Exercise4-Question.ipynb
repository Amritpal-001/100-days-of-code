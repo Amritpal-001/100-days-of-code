{
 "cells": [
  {
   "cell_type": "markdown",
   "metadata": {
    "colab_type": "text",
    "id": "UncprnB0ymAE"
   },
   "source": [
    "Below is code with a link to a happy or sad dataset which contains 80 images, 40 happy and 40 sad. \n",
    "Create a convolutional neural network that trains to 100% accuracy on these images,  which cancels training upon hitting training accuracy of >.999\n",
    "\n",
    "Hint -- it will work best with 3 convolutional layers."
   ]
  },
  {
   "cell_type": "code",
   "execution_count": 3,
   "metadata": {},
   "outputs": [],
   "source": [
    "import tensorflow as tf\n",
    "import os\n",
    "import zipfile\n",
    "from os import path, getcwd, chdir\n",
    "\n",
    "# DO NOT CHANGE THE LINE BELOW. If you are developing in a local\n",
    "# environment, then grab happy-or-sad.zip from the Coursera Jupyter Notebook\n",
    "# and place it inside a local folder and edit the path to that location\n",
    "path = f\"{getcwd()}/../tmp2/happy-or-sad.zip\"\n",
    "\n",
    "zip_ref = zipfile.ZipFile(path, 'r')\n",
    "zip_ref.extractall(\"/tmp/h-or-s\")\n",
    "zip_ref.close()"
   ]
  },
  {
   "cell_type": "code",
   "execution_count": 4,
   "metadata": {},
   "outputs": [
    {
     "data": {
      "text/plain": [
       "['sad', 'happy']"
      ]
     },
     "execution_count": 4,
     "metadata": {},
     "output_type": "execute_result"
    }
   ],
   "source": [
    "os.listdir('/tmp/h-or-s')"
   ]
  },
  {
   "cell_type": "code",
   "execution_count": 5,
   "metadata": {},
   "outputs": [],
   "source": [
    "# GRADED FUNCTION: train_happy_sad_model\n",
    "def train_happy_sad_model():\n",
    "    # Please write your code only where you are indicated.\n",
    "    # please do not remove # model fitting inline comments.\n",
    "\n",
    "    DESIRED_ACCURACY = 0.999\n",
    "\n",
    "    class myCallback(tf.keras.callbacks.Callback):\n",
    "      def on_epoch_end(self, epoch, logs={}):\n",
    "        if(logs.get('acc')>0.999):\n",
    "          print(\"\\nReached 99.9% accuracy so cancelling training!\")\n",
    "          self.model.stop_training = True\n",
    "\n",
    "    callbacks = myCallback()\n",
    "    \n",
    "    # This Code Block should Define and Compile the Model. Please assume the images are 150 X 150 in your implementation.\n",
    "    model = tf.keras.models.Sequential([\n",
    "        tf.keras.layers.Conv2D(16 , (3,3) , activation = 'relu' , input_shape = (150 , 150 , 3)),\n",
    "        tf.keras.layers.MaxPooling2D(2,2),\n",
    "        tf.keras.layers.Conv2D(32,(3,3), activation = 'relu') , \n",
    "        tf.keras.layers.MaxPooling2D(2,2),\n",
    "        tf.keras.layers.Conv2D(64,(3,3), activation = 'relu') , \n",
    "        tf.keras.layers.MaxPooling2D(2,2),\n",
    "        tf.keras.layers.Conv2D(64,(3,3), activation = 'relu') , \n",
    "        tf.keras.layers.MaxPooling2D(2,2),\n",
    "        tf.keras.layers.Conv2D(64,(3,3), activation = 'relu') , \n",
    "        tf.keras.layers.MaxPooling2D(2,2),\n",
    "        tf.keras.layers.Flatten(),\n",
    "        tf.keras.layers.Dense(512 , activation = 'relu'),\n",
    "        tf.keras.layers.Dense(1, activation = 'sigmoid')\n",
    "        \n",
    "    ])\n",
    "\n",
    "    from tensorflow.keras.optimizers import RMSprop\n",
    "\n",
    "    model.compile(optimizer = 'adam' ,\n",
    "                 loss = 'binary_crossentropy' ,\n",
    "                 metrics = ['accuracy'])\n",
    "        \n",
    "\n",
    "    # This code block should create an instance of an ImageDataGenerator called train_datagen \n",
    "    # And a train_generator by calling train_datagen.flow_from_directory\n",
    " \n",
    "    \n",
    "    from tensorflow.keras.preprocessing.image import ImageDataGenerator\n",
    "    train_datagen = ImageDataGenerator(rescale=1/255)\n",
    "    validation_datagen = ImageDataGenerator(rescale=1/255)\n",
    "    \n",
    "\n",
    "    # Please use a target_size of 150 X 150.\n",
    "    train_generator = train_datagen.flow_from_directory('/tmp/h-or-s' , target_size = (150 ,150) , batch_size = 128 , \n",
    "                                                        class_mode = 'binary') \n",
    "        # Your Code Here)\n",
    "    # Expected output: 'Found 80 images belonging to 2 classes'\n",
    "\n",
    "    # This code block should call model.fit_generator and train for\n",
    "    # a number of epochs.\n",
    "    \n",
    "    # model fitting\n",
    "    history = model.fit_generator(\n",
    "          train_generator , epochs = 30  , callbacks = [callbacks])\n",
    "    # model fitting\n",
    "    return history.history['acc'][-1]"
   ]
  },
  {
   "cell_type": "code",
   "execution_count": 6,
   "metadata": {},
   "outputs": [
    {
     "name": "stderr",
     "output_type": "stream",
     "text": [
      "WARNING: Logging before flag parsing goes to stderr.\n",
      "W1002 12:13:55.428164 139813276591936 deprecation.py:506] From /usr/local/lib/python3.6/dist-packages/tensorflow/python/ops/init_ops.py:1251: calling VarianceScaling.__init__ (from tensorflow.python.ops.init_ops) with dtype is deprecated and will be removed in a future version.\n",
      "Instructions for updating:\n",
      "Call initializer instance with the dtype argument instead of passing it to the constructor\n",
      "W1002 12:13:55.924615 139813276591936 deprecation.py:323] From /usr/local/lib/python3.6/dist-packages/tensorflow/python/ops/nn_impl.py:180: add_dispatch_support.<locals>.wrapper (from tensorflow.python.ops.array_ops) is deprecated and will be removed in a future version.\n",
      "Instructions for updating:\n",
      "Use tf.where in 2.0, which has the same broadcast rule as np.where\n"
     ]
    },
    {
     "name": "stdout",
     "output_type": "stream",
     "text": [
      "Found 80 images belonging to 2 classes.\n",
      "Epoch 1/30\n",
      "1/1 [==============================] - 6s 6s/step - loss: 0.6923 - acc: 0.5000\n",
      "Epoch 2/30\n",
      "1/1 [==============================] - 0s 94ms/step - loss: 0.6861 - acc: 0.9625\n",
      "Epoch 3/30\n",
      "1/1 [==============================] - 0s 212ms/step - loss: 0.6753 - acc: 0.7500\n",
      "Epoch 4/30\n",
      "1/1 [==============================] - 0s 292ms/step - loss: 0.6600 - acc: 0.7250\n",
      "Epoch 5/30\n",
      "1/1 [==============================] - 0s 226ms/step - loss: 0.6357 - acc: 0.7500\n",
      "Epoch 6/30\n",
      "1/1 [==============================] - 0s 279ms/step - loss: 0.6004 - acc: 0.7500\n",
      "Epoch 7/30\n",
      "1/1 [==============================] - 0s 298ms/step - loss: 0.5492 - acc: 0.7500\n",
      "Epoch 8/30\n",
      "1/1 [==============================] - 0s 291ms/step - loss: 0.4808 - acc: 0.8875\n",
      "Epoch 9/30\n",
      "1/1 [==============================] - 0s 279ms/step - loss: 0.3945 - acc: 0.9500\n",
      "Epoch 10/30\n",
      "1/1 [==============================] - 0s 224ms/step - loss: 0.3011 - acc: 0.9500\n",
      "Epoch 11/30\n",
      "1/1 [==============================] - 0s 288ms/step - loss: 0.2255 - acc: 0.9250\n",
      "Epoch 12/30\n",
      "1/1 [==============================] - 0s 279ms/step - loss: 0.4129 - acc: 0.7500\n",
      "Epoch 13/30\n",
      "1/1 [==============================] - 0s 223ms/step - loss: 0.3199 - acc: 0.8875\n",
      "Epoch 14/30\n",
      "1/1 [==============================] - 0s 287ms/step - loss: 0.2958 - acc: 0.9000\n",
      "Epoch 15/30\n",
      "1/1 [==============================] - 0s 291ms/step - loss: 0.1615 - acc: 0.9500\n",
      "Epoch 16/30\n",
      "1/1 [==============================] - 0s 219ms/step - loss: 0.2955 - acc: 0.7500\n",
      "Epoch 17/30\n",
      "1/1 [==============================] - 0s 282ms/step - loss: 0.1844 - acc: 0.9375\n",
      "Epoch 18/30\n",
      "1/1 [==============================] - 0s 279ms/step - loss: 0.1650 - acc: 0.9250\n",
      "Epoch 19/30\n",
      "1/1 [==============================] - 0s 223ms/step - loss: 0.2232 - acc: 0.9125\n",
      "Epoch 20/30\n",
      "1/1 [==============================] - 0s 285ms/step - loss: 0.2017 - acc: 0.9125\n",
      "Epoch 21/30\n",
      "1/1 [==============================] - 0s 225ms/step - loss: 0.1473 - acc: 0.9250\n",
      "Epoch 22/30\n",
      "1/1 [==============================] - 0s 287ms/step - loss: 0.1594 - acc: 0.9875\n",
      "Epoch 23/30\n",
      "1/1 [==============================] - 0s 265ms/step - loss: 0.1878 - acc: 0.9375\n",
      "Epoch 24/30\n",
      "1/1 [==============================] - 0s 224ms/step - loss: 0.1475 - acc: 0.9750\n",
      "Epoch 25/30\n",
      "1/1 [==============================] - 0s 301ms/step - loss: 0.1330 - acc: 0.9375\n",
      "Epoch 26/30\n",
      "1/1 [==============================] - 0s 299ms/step - loss: 0.1520 - acc: 0.9250\n",
      "Epoch 27/30\n",
      "1/1 [==============================] - 0s 225ms/step - loss: 0.1514 - acc: 0.9250\n",
      "Epoch 28/30\n",
      "1/1 [==============================] - 0s 283ms/step - loss: 0.1261 - acc: 0.9375\n",
      "Epoch 29/30\n",
      "1/1 [==============================] - 0s 306ms/step - loss: 0.1158 - acc: 0.9625\n",
      "Epoch 30/30\n",
      "\n",
      "Reached 99.9% accuracy so cancelling training!\n",
      "1/1 [==============================] - 0s 278ms/step - loss: 0.1318 - acc: 1.0000\n"
     ]
    },
    {
     "data": {
      "text/plain": [
       "1.0"
      ]
     },
     "execution_count": 6,
     "metadata": {},
     "output_type": "execute_result"
    }
   ],
   "source": [
    "# The Expected output: \"Reached 99.9% accuracy so cancelling training!\"\"\n",
    "train_happy_sad_model()"
   ]
  },
  {
   "cell_type": "code",
   "execution_count": 4,
   "metadata": {},
   "outputs": [],
   "source": [
    "# Now click the 'Submit Assignment' button above.\n",
    "# Once that is complete, please run the following two cells to save your work and close the notebook"
   ]
  },
  {
   "cell_type": "code",
   "execution_count": 7,
   "metadata": {},
   "outputs": [
    {
     "data": {
      "application/javascript": [
       "<!-- Save the notebook -->\n",
       "IPython.notebook.save_checkpoint();\n"
      ],
      "text/plain": [
       "<IPython.core.display.Javascript object>"
      ]
     },
     "metadata": {},
     "output_type": "display_data"
    }
   ],
   "source": [
    "%%javascript\n",
    "<!-- Save the notebook -->\n",
    "IPython.notebook.save_checkpoint();"
   ]
  },
  {
   "cell_type": "code",
   "execution_count": null,
   "metadata": {},
   "outputs": [
    {
     "data": {
      "application/javascript": [
       "IPython.notebook.session.delete();\n",
       "window.onbeforeunload = null\n",
       "setTimeout(function() { window.close(); }, 1000);\n"
      ],
      "text/plain": [
       "<IPython.core.display.Javascript object>"
      ]
     },
     "metadata": {},
     "output_type": "display_data"
    }
   ],
   "source": [
    "%%javascript\n",
    "IPython.notebook.session.delete();\n",
    "window.onbeforeunload = null\n",
    "setTimeout(function() { window.close(); }, 1000);"
   ]
  },
  {
   "cell_type": "code",
   "execution_count": null,
   "metadata": {},
   "outputs": [],
   "source": []
  }
 ],
 "metadata": {
  "coursera": {
   "course_slug": "introduction-tensorflow",
   "graded_item_id": "1kAlw",
   "launcher_item_id": "PNLYD"
  },
  "kernelspec": {
   "display_name": "Python 3",
   "language": "python",
   "name": "python3"
  }
 },
 "nbformat": 4,
 "nbformat_minor": 1
}
